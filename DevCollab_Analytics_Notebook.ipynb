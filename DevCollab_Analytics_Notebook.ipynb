{
 "cells": [
  {
   "cell_type": "markdown",
   "id": "b109bed2",
   "metadata": {},
   "source": [
    "# DevCollab Analytics & Demo Notebook\n",
    "\n",
    "**Purpose:** This notebook simulates product metrics, runs analytics, and creates visualizations for the DevCollab project. It's designed as a professional, shareable artifact for teams (Builders Hub, Data Guild, Growth Squad) to inspect KPIs and examples of dashboards.\n",
    "\n",
    "Sections:\n",
    "\n",
    "1. Simulated dataset generation\n",
    "2. KPI calculation (MAU, conversion, retention, revenue)\n",
    "3. Visualizations (time series, funnel, pie, retention curve)\n",
    "4. Export examples\n",
    "\n",
    "_Note: This notebook uses simulated data for demonstration — replace simulation cells with real data sources (Supabase, Prometheus, Grafana) in production._"
   ]
  },
  {
   "cell_type": "code",
   "execution_count": null,
   "id": "18a47a6d",
   "metadata": {},
   "outputs": [],
   "source": [
    "import pandas as pd\n",
    "import numpy as np\n",
    "from datetime import datetime, timedelta\n",
    "import matplotlib.pyplot as plt\n",
    "\n",
    "# Display settings\n",
    "pd.set_option('display.max_columns', 50)\n",
    "pd.set_option('display.width', 200)\n",
    "\n",
    "print('Libraries loaded')"
   ]
  },
  {
   "cell_type": "markdown",
   "id": "a39b3cf5",
   "metadata": {},
   "source": [
    "## 1) Simulated Dataset Generation\n",
    "Generating 180 days of simulated metrics: daily active users (DAU), monthly active users (MAU approximation), signups, conversions, revenue, and AI queries."
   ]
  },
  {
   "cell_type": "code",
   "execution_count": null,
   "id": "5b526b3f",
   "metadata": {},
   "outputs": [],
   "source": [
    "# Simulation parameters\n",
    "np.random.seed(42)\n",
    "days = 180\n",
    "start = datetime.today() - timedelta(days=days-1)\n",
    "dates = [start + timedelta(days=i) for i in range(days)]\n",
    "\n",
    "# Simulate DAU with growth trend and weekly seasonality\n",
    "base = np.linspace(500, 8000, days)  # growth from 500 to 8000 DAU over period\n",
    "seasonality = 500 * np.sin(np.arange(days) * 2 * np.pi / 7)  # weekly pattern\n",
    "noise = np.random.normal(0, 300, days)\n",
    "dau = np.maximum(50, (base + seasonality + noise).astype(int))\n",
    "\n",
    "# Signups proportional to DAU with noise\n",
    "signups = np.maximum(0, (dau * 0.08 + np.random.normal(0, 5, days)).astype(int))\n",
    "\n",
    "# Conversions (free -> paid) - funnel rate with small improvements over time\n",
    "base_conv_rate = 0.02 + np.linspace(0, 0.01, days)  # from 2% to 3%\n",
    "conversions = (signups * base_conv_rate).astype(int)\n",
    "\n",
    "# Revenue per conversion (varying)\n",
    "revenue_per = np.random.normal(25, 5, days)\n",
    "revenue = (conversions * revenue_per).round(2)\n",
    "\n",
    "# AI queries per day (grows with DAU)\n",
    "ai_queries = (dau * (0.5 + np.random.rand(days)*1.5)).astype(int)\n",
    "\n",
    "# Assemble DataFrame\n",
    "df = pd.DataFrame({\n",
    "    'date': dates,\n",
    "    'dau': dau,\n",
    "    'signups': signups,\n",
    "    'conversions': conversions,\n",
    "    'revenue': revenue,\n",
    "    'ai_queries': ai_queries\n",
    "})\n",
    "df['cumulative_revenue'] = df['revenue'].cumsum()\n",
    "df['conversion_rate'] = (df['conversions'] / df['signups']).replace([np.inf, -np.inf], 0).fillna(0)\n",
    "df['ma7_dau'] = df['dau'].rolling(7, min_periods=1).mean()\n",
    "\n",
    "# show head\n",
    "df.head()"
   ]
  },
  {
   "cell_type": "code",
   "execution_count": null,
   "id": "ad4b8965",
   "metadata": {},
   "outputs": [],
   "source": [
    "# Display sample\n",
    "import pandas as pd\n",
    "df.head(10)"
   ]
  },
  {
   "cell_type": "markdown",
   "id": "75f86cf7",
   "metadata": {},
   "source": [
    "## 2) KPI Calculations\n",
    "Calculate MAU approximation (unique users approximation using DAU aggregate), conversion rates, ARPU, and retention proxy."
   ]
  },
  {
   "cell_type": "code",
   "execution_count": null,
   "id": "a03e132b",
   "metadata": {},
   "outputs": [],
   "source": [
    "# KPI calculations\n",
    "# Approximate MAU by taking the max 30-day rolling unique-like proxy via DAU aggregate (simulated proxy)\n",
    "df['ma30_proxy'] = df['dau'].rolling(30, min_periods=1).mean() * 22  # heuristic proxy for unique users\n",
    "df['arpu'] = (df['revenue'] / np.maximum(1, df['dau'])).round(4)  # revenue per active user\n",
    "df['install_to_paid'] = (df['conversions'] / np.maximum(1, df['signups'])).round(4)\n",
    "\n",
    "kpis = {\n",
    "    'latest_dau': int(df['dau'].iloc[-1]),\n",
    "    'avg_dau_30d': float(df['dau'].tail(30).mean()),\n",
    "    'ma30_proxy': float(df['ma30_proxy'].iloc[-1]),\n",
    "    'total_revenue': float(df['revenue'].sum()),\n",
    "    'avg_arpu': float(df['arpu'].mean())\n",
    "}\n",
    "\n",
    "kpis, df.tail(3)"
   ]
  },
  {
   "cell_type": "markdown",
   "id": "fa50eac5",
   "metadata": {},
   "source": [
    "## 3) Visualizations\n",
    "### DAU over time (7-day MA overlay)"
   ]
  },
  {
   "cell_type": "code",
   "execution_count": null,
   "id": "07a0bed1",
   "metadata": {},
   "outputs": [],
   "source": [
    "# DAU time series with 7-day moving average\n",
    "plt.figure(figsize=(12,5))\n",
    "plt.plot(df['date'], df['dau'])\n",
    "plt.plot(df['date'], df['ma7_dau'])\n",
    "plt.title('Daily Active Users (DAU) and 7-day MA')\n",
    "plt.xlabel('Date')\n",
    "plt.ylabel('Users')\n",
    "plt.grid(True)\n",
    "plt.tight_layout()\n",
    "plt.show()"
   ]
  },
  {
   "cell_type": "markdown",
   "id": "c6f8d161",
   "metadata": {},
   "source": [
    "### Daily Revenue & Cumulative Revenue"
   ]
  },
  {
   "cell_type": "code",
   "execution_count": null,
   "id": "c23d1942",
   "metadata": {},
   "outputs": [],
   "source": [
    "plt.figure(figsize=(12,5))\n",
    "plt.plot(df['date'], df['revenue'], linestyle='-', marker='o')\n",
    "plt.title('Daily Revenue')\n",
    "plt.xlabel('Date')\n",
    "plt.ylabel('Revenue (USD)')\n",
    "plt.grid(True)\n",
    "plt.tight_layout()\n",
    "plt.show()\n",
    "\n",
    "plt.figure(figsize=(12,5))\n",
    "plt.plot(df['date'], df['cumulative_revenue'])\n",
    "plt.title('Cumulative Revenue')\n",
    "plt.xlabel('Date')\n",
    "plt.ylabel('Cumulative Revenue (USD)')\n",
    "plt.grid(True)\n",
    "plt.tight_layout()\n",
    "plt.show()"
   ]
  },
  {
   "cell_type": "markdown",
   "id": "635c697e",
   "metadata": {},
   "source": [
    "### Conversion Funnel (Signups → Paid Conversions)"
   ]
  },
  {
   "cell_type": "code",
   "execution_count": null,
   "id": "99626665",
   "metadata": {},
   "outputs": [],
   "source": [
    "# Funnel visualization as bar chart for latest 30 days aggregated\n",
    "agg = df.tail(30).sum()\n",
    "labels = ['DAU (sum 30d)', 'Signups (30d)', 'Conversions (30d)']\n",
    "values = [int(df['dau'].tail(30).sum()), int(agg['signups']), int(agg['conversions'])]\n",
    "\n",
    "plt.figure(figsize=(8,4))\n",
    "plt.bar(labels, values)\n",
    "plt.title('30-day Funnel Aggregation')\n",
    "plt.tight_layout()\n",
    "plt.show()"
   ]
  },
  {
   "cell_type": "markdown",
   "id": "c2f07777",
   "metadata": {},
   "source": [
    "### AI Queries Growth"
   ]
  },
  {
   "cell_type": "code",
   "execution_count": null,
   "id": "0f0e1a23",
   "metadata": {},
   "outputs": [],
   "source": [
    "plt.figure(figsize=(12,5))\n",
    "plt.plot(df['date'], df['ai_queries'])\n",
    "plt.title('Daily AI Queries')\n",
    "plt.xlabel('Date')\n",
    "plt.ylabel('AI Queries')\n",
    "plt.grid(True)\n",
    "plt.tight_layout()\n",
    "plt.show()"
   ]
  },
  {
   "cell_type": "markdown",
   "id": "b1ee1212",
   "metadata": {},
   "source": [
    "### Retention Proxy (Install-to-Paid over time)"
   ]
  },
  {
   "cell_type": "code",
   "execution_count": null,
   "id": "3088e8fb",
   "metadata": {},
   "outputs": [],
   "source": [
    "plt.figure(figsize=(10,4))\n",
    "plt.plot(df['date'], df['install_to_paid'])\n",
    "plt.title('Install-to-Paid (Conversion Rate) Over Time')\n",
    "plt.xlabel('Date')\n",
    "plt.ylabel('Conversion Rate')\n",
    "plt.grid(True)\n",
    "plt.tight_layout()\n",
    "plt.show()"
   ]
  },
  {
   "cell_type": "markdown",
   "id": "eefae03d",
   "metadata": {},
   "source": [
    "## 4) Export Examples\n",
    "Export sample datasets and KPI summary to CSV for sharing with Growth Squad and Strategy Circle."
   ]
  },
  {
   "cell_type": "code",
   "execution_count": null,
   "id": "5ad44599",
   "metadata": {},
   "outputs": [],
   "source": [
    "# Export recent 90 days to CSV\n",
    "recent = df.tail(90).copy()\n",
    "recent.to_csv('devcollab_recent_90d.csv', index=False)\n",
    "\n",
    "kpi_df = pd.DataFrame([kpis])\n",
    "kpi_df.to_csv('devcollab_kpis_summary.csv', index=False)\n",
    "\n",
    "print('Exported devcollab_recent_90d.csv and devcollab_kpis_summary.csv to workspace /mnt/data')\n",
    "recent.head()"
   ]
  },
  {
   "cell_type": "markdown",
   "id": "e2b9442e",
   "metadata": {},
   "source": [
    "### Downloadable Exports\n",
    "The exported CSVs are saved in the notebook workspace. Use the links below to download:\n",
    "\n",
    "- `devcollab_recent_90d.csv`\n",
    "- `devcollab_kpis_summary.csv`"
   ]
  },
  {
   "cell_type": "markdown",
   "id": "8358a01b",
   "metadata": {},
   "source": [
    "## Next Steps & Integration Tips\n",
    "\n",
    "- Replace simulated data with real sources (Supabase, Prometheus, Grafana). \n",
    "- Use Supabase SQL queries or Edge Functions to feed production metrics into this notebook.\n",
    "- Data Guild can extend the notebook with ML models (churn prediction, segmentation).\n",
    "\n",
    "**Teams:** Builders Hub (data ingestion), Data Guild (analysis & models), Growth Squad (use reports for campaigns)."
   ]
  }
 ],
 "metadata": {},
 "nbformat": 4,
 "nbformat_minor": 5
}
